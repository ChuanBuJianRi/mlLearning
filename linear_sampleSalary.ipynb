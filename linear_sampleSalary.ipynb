{
 "cells": [
  {
   "cell_type": "code",
   "id": "initial_id",
   "metadata": {
    "collapsed": true,
    "ExecuteTime": {
     "end_time": "2025-09-17T21:06:18.727915Z",
     "start_time": "2025-09-17T21:06:18.724549Z"
    }
   },
   "source": [
    "import numpy as np\n",
    "import pandas as pd"
   ],
   "outputs": [],
   "execution_count": 59
  },
  {
   "metadata": {
    "ExecuteTime": {
     "end_time": "2025-09-17T21:06:18.966124Z",
     "start_time": "2025-09-17T21:06:18.799200Z"
    }
   },
   "cell_type": "code",
   "source": [
    "salary = pd.read_csv('https://github.com/ybifoundation/Dataset/raw/main/Salary%20Data.csv')\n",
    "salary.columns\n",
    "salary.head()"
   ],
   "id": "b4eef94000378486",
   "outputs": [
    {
     "data": {
      "text/plain": [
       "   Experience Years  Salary\n",
       "0               1.1   39343\n",
       "1               1.2   42774\n",
       "2               1.3   46205\n",
       "3               1.5   37731\n",
       "4               2.0   43525"
      ],
      "text/html": [
       "<div>\n",
       "<style scoped>\n",
       "    .dataframe tbody tr th:only-of-type {\n",
       "        vertical-align: middle;\n",
       "    }\n",
       "\n",
       "    .dataframe tbody tr th {\n",
       "        vertical-align: top;\n",
       "    }\n",
       "\n",
       "    .dataframe thead th {\n",
       "        text-align: right;\n",
       "    }\n",
       "</style>\n",
       "<table border=\"1\" class=\"dataframe\">\n",
       "  <thead>\n",
       "    <tr style=\"text-align: right;\">\n",
       "      <th></th>\n",
       "      <th>Experience Years</th>\n",
       "      <th>Salary</th>\n",
       "    </tr>\n",
       "  </thead>\n",
       "  <tbody>\n",
       "    <tr>\n",
       "      <th>0</th>\n",
       "      <td>1.1</td>\n",
       "      <td>39343</td>\n",
       "    </tr>\n",
       "    <tr>\n",
       "      <th>1</th>\n",
       "      <td>1.2</td>\n",
       "      <td>42774</td>\n",
       "    </tr>\n",
       "    <tr>\n",
       "      <th>2</th>\n",
       "      <td>1.3</td>\n",
       "      <td>46205</td>\n",
       "    </tr>\n",
       "    <tr>\n",
       "      <th>3</th>\n",
       "      <td>1.5</td>\n",
       "      <td>37731</td>\n",
       "    </tr>\n",
       "    <tr>\n",
       "      <th>4</th>\n",
       "      <td>2.0</td>\n",
       "      <td>43525</td>\n",
       "    </tr>\n",
       "  </tbody>\n",
       "</table>\n",
       "</div>"
      ]
     },
     "execution_count": 60,
     "metadata": {},
     "output_type": "execute_result"
    }
   ],
   "execution_count": 60
  },
  {
   "metadata": {
    "ExecuteTime": {
     "end_time": "2025-09-17T21:06:19.001351Z",
     "start_time": "2025-09-17T21:06:18.999149Z"
    }
   },
   "cell_type": "code",
   "source": [
    "y = salary['Salary'][:30]\n",
    "\n",
    "x = salary[['Experience Years']][:30]\n",
    "x = np.c_[np.ones((30,1)), x]  # 横向拼接 → (30,2)\n"
   ],
   "id": "7b9ebccb2d7c5e44",
   "outputs": [],
   "execution_count": 61
  },
  {
   "metadata": {
    "ExecuteTime": {
     "end_time": "2025-09-17T21:06:19.028170Z",
     "start_time": "2025-09-17T21:06:19.024696Z"
    }
   },
   "cell_type": "code",
   "source": [
    "w = np.linalg.inv(x.T.dot(x)).dot(x.T).dot(y)\n",
    "w"
   ],
   "id": "9578f494e2d7c690",
   "outputs": [
    {
     "data": {
      "text/plain": [
       "array([25640.57264658,  9474.66455995])"
      ]
     },
     "execution_count": 62,
     "metadata": {},
     "output_type": "execute_result"
    }
   ],
   "execution_count": 62
  },
  {
   "metadata": {
    "ExecuteTime": {
     "end_time": "2025-09-17T21:06:19.043939Z",
     "start_time": "2025-09-17T21:06:19.042167Z"
    }
   },
   "cell_type": "code",
   "source": [
    "inter, w1 = w\n",
    "print(f\"y={round(w1,2)}x + {round(inter)}\")\n",
    "\n"
   ],
   "id": "87a64f8863b0cc96",
   "outputs": [
    {
     "name": "stdout",
     "output_type": "stream",
     "text": [
      "y=9474.66x + 25641\n"
     ]
    }
   ],
   "execution_count": 63
  },
  {
   "metadata": {
    "ExecuteTime": {
     "end_time": "2025-09-17T21:06:19.124829Z",
     "start_time": "2025-09-17T21:06:19.122570Z"
    }
   },
   "cell_type": "code",
   "source": [
    "y_test = salary['Salary'][30:40].values\n",
    "x_test = salary[['Experience Years']][30:40].values\n",
    "X_test = np.c_[np.ones((10,1)), x_test]\n",
    "y_pred = X_test @ w\n",
    "mse = np.mean((y_test - y_pred) ** 2)\n",
    "print(\"MSE =\", mse)"
   ],
   "id": "c55df67ff63a400c",
   "outputs": [
    {
     "name": "stdout",
     "output_type": "stream",
     "text": [
      "MSE = 22786116.657558583\n"
     ]
    }
   ],
   "execution_count": 64
  }
 ],
 "metadata": {
  "kernelspec": {
   "display_name": "Python 3",
   "language": "python",
   "name": "python3"
  },
  "language_info": {
   "codemirror_mode": {
    "name": "ipython",
    "version": 2
   },
   "file_extension": ".py",
   "mimetype": "text/x-python",
   "name": "python",
   "nbconvert_exporter": "python",
   "pygments_lexer": "ipython2",
   "version": "2.7.6"
  }
 },
 "nbformat": 4,
 "nbformat_minor": 5
}
